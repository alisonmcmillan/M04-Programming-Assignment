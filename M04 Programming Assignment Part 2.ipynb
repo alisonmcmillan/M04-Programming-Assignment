{
 "cells": [
  {
   "cell_type": "code",
   "execution_count": 1,
   "id": "7c7629aa-56d5-4db4-9af7-f2194c952100",
   "metadata": {},
   "outputs": [
    {
     "name": "stdout",
     "output_type": "stream",
     "text": [
      "Step 16.1: Saved data to books.csv\n"
     ]
    }
   ],
   "source": [
    "import csv\n",
    "\n",
    "# Data to write to books.csv\n",
    "data = [\n",
    "    {'author': 'J R R Tolkien', 'book': 'The Hobbit'},\n",
    "    {'author': 'Lynne Truss', 'book': 'Eats, Shoots & Leaves'}\n",
    "]\n",
    "\n",
    "# Write data to books.csv\n",
    "with open('books.csv', 'w', newline='') as csvfile:\n",
    "    fieldnames = ['author', 'book']\n",
    "    writer = csv.DictWriter(csvfile, fieldnames=fieldnames)\n",
    "    writer.writeheader()\n",
    "    writer.writerows(data)\n",
    "\n",
    "print(\"Step 16.1: Saved data to books.csv\")\n"
   ]
  },
  {
   "cell_type": "code",
   "execution_count": 2,
   "id": "fc7d01d3-cd15-43a4-895f-2e2b9c79db08",
   "metadata": {},
   "outputs": [
    {
     "name": "stdout",
     "output_type": "stream",
     "text": [
      "Step 16.2: Data read from books.csv:\n",
      "Author: J R R Tolkien, Book: The Hobbit\n",
      "Author: Lynne Truss, Book: Eats, Shoots & Leaves\n"
     ]
    }
   ],
   "source": [
    "import csv\n",
    "\n",
    "# Step 1: Read books.csv using DictReader\n",
    "books = []\n",
    "with open('books.csv', newline='') as csvfile:\n",
    "    reader = csv.DictReader(csvfile)\n",
    "    for row in reader:\n",
    "        books.append(row)\n",
    "\n",
    "# Step 2: Print the values in books\n",
    "print(\"Step 16.2: Data read from books.csv:\")\n",
    "for book in books:\n",
    "    print(f\"Author: {book['author']}, Book: {book['book']}\")\n"
   ]
  },
  {
   "cell_type": "code",
   "execution_count": 3,
   "id": "1152571c-b925-4090-b55a-9896322c47c1",
   "metadata": {},
   "outputs": [
    {
     "name": "stdout",
     "output_type": "stream",
     "text": [
      "Step 16.3: Created books2.csv\n"
     ]
    }
   ],
   "source": [
    "import csv\n",
    "\n",
    "# Data to write to books2.csv\n",
    "data = [\n",
    "    {'title': 'The Weirdstone of Brisingamen', 'author': 'Alan Garner', 'year': '1960'},\n",
    "    {'title': 'Perdido Street Station', 'author': 'China Miéville', 'year': '2000'},\n",
    "    {'title': 'Thud!', 'author': 'Terry Pratchett', 'year': '2005'},\n",
    "    {'title': 'The Spellman Files', 'author': 'Lisa Lutz', 'year': '2007'},\n",
    "    {'title': 'Small Gods', 'author': 'Terry Pratchett', 'year': '1992'}\n",
    "]\n",
    "\n",
    "# Write data to books2.csv\n",
    "with open('books2.csv', 'w', newline='') as csvfile:\n",
    "    fieldnames = ['title', 'author', 'year']\n",
    "    writer = csv.DictWriter(csvfile, fieldnames=fieldnames)\n",
    "    writer.writeheader()\n",
    "    writer.writerows(data)\n",
    "\n",
    "print(\"Step 16.3: Created books2.csv\")\n"
   ]
  },
  {
   "cell_type": "code",
   "execution_count": 4,
   "id": "03d0d6f0-3cbb-4f3a-aff6-adc9901c5894",
   "metadata": {},
   "outputs": [
    {
     "name": "stdout",
     "output_type": "stream",
     "text": [
      "Step 16.4: Created SQLite database books.db and table books and books2\n"
     ]
    }
   ],
   "source": [
    "import sqlite3\n",
    "\n",
    "# Step 1: Create SQLite database and connect\n",
    "conn = sqlite3.connect('books.db')\n",
    "cursor = conn.cursor()\n",
    "\n",
    "# Step 2: Create a table called books with title (text), author (text), and year (integer) fields\n",
    "cursor.execute('''\n",
    "    CREATE TABLE IF NOT EXISTS books (\n",
    "        title TEXT,\n",
    "        author TEXT,\n",
    "        year INTEGER\n",
    "    )\n",
    "''')\n",
    "\n",
    "# Step 3: Create a table called books2 with the same structure (assuming you want this table)\n",
    "cursor.execute('''\n",
    "    CREATE TABLE IF NOT EXISTS books2 (\n",
    "        title TEXT,\n",
    "        author TEXT,\n",
    "        year INTEGER\n",
    "    )\n",
    "''')\n",
    "\n",
    "# Step 4: Commit changes and close connection\n",
    "conn.commit()\n",
    "conn.close()\n",
    "\n",
    "print(\"Step 16.4: Created SQLite database books.db and table books and books2\")\n"
   ]
  },
  {
   "cell_type": "code",
   "execution_count": 9,
   "id": "2d0fcfa1-9bf5-4a5c-866d-ca1cb80be322",
   "metadata": {},
   "outputs": [
    {
     "name": "stdout",
     "output_type": "stream",
     "text": [
      "Step 16.5: Inserted data from books.csv and books2.csv into books table\n"
     ]
    }
   ],
   "source": [
    "import csv\n",
    "import sqlite3\n",
    "\n",
    "# Step 1: Read books2.csv and insert data into SQLite table\n",
    "conn = sqlite3.connect('books.db')\n",
    "cursor = conn.cursor()\n",
    "\n",
    "with open('books.csv', newline='') as csvfile:\n",
    "    reader = csv.DictReader(csvfile)\n",
    "    for row in reader:\n",
    "        title = row['book']  # Note: using 'book' as column name\n",
    "        author = row['author']\n",
    "        cursor.execute('INSERT INTO books (title, author, year) VALUES (?, ?, ?)', (title, author, None))\n",
    "\n",
    "# Step 4: Insert data from books2.csv into the books table\n",
    "with open('books2.csv', newline='') as csvfile:\n",
    "    reader = csv.DictReader(csvfile)\n",
    "    for row in reader:\n",
    "        title = row['title']\n",
    "        author = row['author']\n",
    "        year = int(row['year'])  # Convert year to integer\n",
    "        cursor.execute('INSERT INTO books (title, author, year) VALUES (?, ?, ?)', (title, author, year))\n",
    "\n",
    "# Step 5: Commit changes and close connection\n",
    "conn.commit()\n",
    "conn.close()\n",
    "\n",
    "print(\"Step 16.5: Inserted data from books.csv and books2.csv into books table\")"
   ]
  },
  {
   "cell_type": "code",
   "execution_count": 10,
   "id": "1431e02c-6446-47ca-9e72-fa5758cdab50",
   "metadata": {},
   "outputs": [
    {
     "name": "stdout",
     "output_type": "stream",
     "text": [
      "Step 16.6: Titles in alphabetical order:\n",
      "Eats, Shoots & Leaves\n",
      "Perdido Street Station\n",
      "Small Gods\n",
      "The Hobbit\n",
      "The Spellman Files\n",
      "The Weirdstone of Brisingamen\n",
      "Thud!\n"
     ]
    }
   ],
   "source": [
    "import sqlite3\n",
    "\n",
    "# Step 1: Connect to SQLite database\n",
    "conn = sqlite3.connect('books.db')\n",
    "cursor = conn.cursor()\n",
    "\n",
    "# Step 2: Select and print title column in alphabetical order\n",
    "cursor.execute('SELECT title FROM books ORDER BY title')\n",
    "titles = cursor.fetchall()\n",
    "print(\"Step 16.6: Titles in alphabetical order:\")\n",
    "for title in titles:\n",
    "    print(title[0])\n",
    "\n",
    "# Step 3: Close connection\n",
    "conn.close()\n"
   ]
  },
  {
   "cell_type": "code",
   "execution_count": 11,
   "id": "7acc0350-37d6-42d7-99d4-3726d3545862",
   "metadata": {},
   "outputs": [
    {
     "name": "stdout",
     "output_type": "stream",
     "text": [
      "Step 16.7: Books in order of publication:\n",
      "('The Hobbit', 'J R R Tolkien', None)\n",
      "('Eats, Shoots & Leaves', 'Lynne Truss', None)\n",
      "('The Weirdstone of Brisingamen', 'Alan Garner', 1960)\n",
      "('Small Gods', 'Terry Pratchett', 1992)\n",
      "('Perdido Street Station', 'China Miéville', 2000)\n",
      "('Thud!', 'Terry Pratchett', 2005)\n",
      "('The Spellman Files', 'Lisa Lutz', 2007)\n"
     ]
    }
   ],
   "source": [
    "import sqlite3\n",
    "\n",
    "# Step 1: Connect to SQLite database\n",
    "conn = sqlite3.connect('books.db')\n",
    "cursor = conn.cursor()\n",
    "\n",
    "# Step 2: Select and print all columns in order of publication\n",
    "cursor.execute('SELECT * FROM books ORDER BY year')\n",
    "books = cursor.fetchall()\n",
    "print(\"Step 16.7: Books in order of publication:\")\n",
    "for book in books:\n",
    "    print(book)\n",
    "\n",
    "# Step 3: Close connection\n",
    "conn.close()\n"
   ]
  },
  {
   "cell_type": "code",
   "execution_count": 16,
   "id": "6529a1f2-0899-4cd7-b0ea-fa7c904725b6",
   "metadata": {},
   "outputs": [
    {
     "name": "stdout",
     "output_type": "stream",
     "text": [
      "Step 16.8: Combined titles in alphabetical order from 'books' and 'books2' tables using SQLAlchemy:\n",
      "Eats, Shoots & Leaves\n",
      "Perdido Street Station\n",
      "Small Gods\n",
      "The Hobbit\n",
      "The Spellman Files\n",
      "The Weirdstone of Brisingamen\n",
      "Thud!\n"
     ]
    }
   ],
   "source": [
    "from sqlalchemy import create_engine, MetaData\n",
    "\n",
    "# Step 1: Create an engine to connect to the database\n",
    "engine = create_engine('sqlite:///books.db')  # Removed echo=True to suppress SQL query logs\n",
    "\n",
    "# Step 2: Reflect the existing database into a new MetaData object\n",
    "metadata = MetaData()\n",
    "metadata.reflect(bind=engine)\n",
    "\n",
    "# Step 3: Access the books and books2 tables\n",
    "Book = metadata.tables['books']  # Assuming 'books' table exists\n",
    "Book1 = metadata.tables['books2']  # Assuming 'books2' table exists\n",
    "\n",
    "# Step 4: Query to select title column from both tables\n",
    "query_books = Book.select().order_by(Book.c.title)\n",
    "query_books2 = Book1.select().order_by(Book1.c.title)\n",
    "\n",
    "# Step 5: Execute the queries and collect results\n",
    "titles = []\n",
    "with engine.connect() as connection:\n",
    "    result_books = connection.execute(query_books)\n",
    "    titles.extend([row[0] for row in result_books])\n",
    "    \n",
    "    result_books2 = connection.execute(query_books2)\n",
    "    titles.extend([row[0] for row in result_books2])\n",
    "\n",
    "# Step 6: Sort titles in alphabetical order\n",
    "titles.sort()\n",
    "\n",
    "# Step 7: Print combined titles in alphabetical order\n",
    "print(\"Step 16.8: Combined titles in alphabetical order from 'books' and 'books2' tables using SQLAlchemy:\")\n",
    "for title in titles:\n",
    "    print(title)\n"
   ]
  }
 ],
 "metadata": {
  "kernelspec": {
   "display_name": "Python 3 (ipykernel)",
   "language": "python",
   "name": "python3"
  },
  "language_info": {
   "codemirror_mode": {
    "name": "ipython",
    "version": 3
   },
   "file_extension": ".py",
   "mimetype": "text/x-python",
   "name": "python",
   "nbconvert_exporter": "python",
   "pygments_lexer": "ipython3",
   "version": "3.11.7"
  }
 },
 "nbformat": 4,
 "nbformat_minor": 5
}
